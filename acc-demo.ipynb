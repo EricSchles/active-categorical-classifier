{
 "cells": [
  {
   "cell_type": "code",
   "execution_count": null,
   "metadata": {
    "collapsed": false,
    "scrolled": true
   },
   "outputs": [],
   "source": [
    "from MarkovNetwork import MarkovNetwork\n",
    "import numpy as np\n",
    "from tqdm import tqdm\n",
    "\n",
    "from deap import algorithms\n",
    "from deap import base\n",
    "from deap import creator\n",
    "from deap import tools\n",
    "\n",
    "creator.create('FitnessMulti', base.Fitness, weights=(1.0, -1.0))\n",
    "creator.create('Individual', list, fitness=creator.FitnessMulti)\n",
    "\n",
    "toolbox = base.Toolbox()\n",
    "toolbox.register('genome', np.random.randint, 0, 256, 10000)\n",
    "toolbox.register('individual', tools.initIterate, creator.Individual, toolbox.genome)\n",
    "toolbox.register('population', tools.initRepeat, list, toolbox.individual)\n",
    "\n",
    "def eval_acc(individual):\n",
    "    # Convert individual into MN\n",
    "    acc = MarkovNetwork(num_input_states=9,\n",
    "                        num_memory_states=10,\n",
    "                        num_output_states=23,\n",
    "                        probabilistic=False,\n",
    "                        genome=individual)\n",
    "    \n",
    "    # Evaluate individual on digits\n",
    "    return np.random.random(), np.random.random()\n",
    "\n",
    "def pareto_selection_operator(individuals, k):\n",
    "    return tools.selNSGA2(individuals, int(k / 5.)) * 5\n",
    "\n",
    "def mutation_operator(individual):\n",
    "    # Point mutations\n",
    "    num_mutations = int(0.0005 * len(individual))\n",
    "    for byte_index in np.random.randint(0, len(individual), num_mutations):\n",
    "        individual[byte_index] = np.random.randint(0, 256)\n",
    "    \n",
    "    # Duplication\n",
    "    if len(individual) < 50000 and np.random.random() < 0.05:\n",
    "        width = np.random.randint(15, 601)\n",
    "        start_index = np.random.randint(0, len(individual) - width)\n",
    "        insert_index = np.random.randint(0, len(individual))\n",
    "        for val in reversed(individual[start_index:start_index + width]):\n",
    "            individual.insert(insert_index, val)\n",
    "    \n",
    "    # Deletion\n",
    "    if len(individual) > 1000 and np.random.random() < 0.02:\n",
    "        width = np.random.randint(15, 601)\n",
    "        start_index = np.random.randint(0, len(individual) - width)\n",
    "        del individual[start_index:start_index + width]\n",
    "    \n",
    "    return individual,\n",
    "\n",
    "\n",
    "toolbox.register('evaluate', eval_acc)\n",
    "toolbox.register('mutate', mutation_operator)\n",
    "toolbox.register('select', pareto_selection_operator)\n",
    "\n",
    "def pareto_eq(ind1, ind2):\n",
    "    return np.all(ind1.fitness.values == ind2.fitness.values)\n",
    "\n",
    "pop = toolbox.population(n=100)\n",
    "hof = tools.ParetoFront(similar=pareto_eq)\n",
    "stats = tools.Statistics(lambda ind: (int(ind.fitness.values[0]), round(ind.fitness.values[1], 2)))\n",
    "stats.register('Minimum', np.min, axis=0)\n",
    "stats.register('Maximum', np.max, axis=0)\n",
    "stats.register('Progress', lambda x: pbar.update())\n",
    "\n",
    "total_gens = 10\n",
    "\n",
    "pbar = tqdm(total=total_gens)\n",
    "pop, log = algorithms.eaSimple(pop, toolbox, cxpb=0., mutpb=1.0, ngen=total_gens, \n",
    "                               stats=stats, halloffame=hof, verbose=False)\n",
    "pbar.close()"
   ]
  },
  {
   "cell_type": "code",
   "execution_count": null,
   "metadata": {
    "collapsed": true
   },
   "outputs": [],
   "source": []
  }
 ],
 "metadata": {
  "kernelspec": {
   "display_name": "Python 3",
   "language": "python",
   "name": "python3"
  },
  "language_info": {
   "codemirror_mode": {
    "name": "ipython",
    "version": 3
   },
   "file_extension": ".py",
   "mimetype": "text/x-python",
   "name": "python",
   "nbconvert_exporter": "python",
   "pygments_lexer": "ipython3",
   "version": "3.5.1"
  }
 },
 "nbformat": 4,
 "nbformat_minor": 0
}
